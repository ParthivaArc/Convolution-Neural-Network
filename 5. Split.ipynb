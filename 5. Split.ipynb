{
 "cells": [
  {
   "cell_type": "code",
   "execution_count": 3,
   "id": "4c406d3b-3937-43e9-9e94-ceac71991927",
   "metadata": {},
   "outputs": [],
   "source": [
    "import os"
   ]
  },
  {
   "cell_type": "code",
   "execution_count": 14,
   "id": "436de068-6ba3-49bf-b151-68bfb1a96d1e",
   "metadata": {},
   "outputs": [],
   "source": [
    "directory = \"C:/Users/Parthiva/Desktop/\""
   ]
  },
  {
   "cell_type": "code",
   "execution_count": 15,
   "id": "7754cea6-bfc0-4710-a018-1020f350e0de",
   "metadata": {},
   "outputs": [
    {
     "ename": "FileExistsError",
     "evalue": "[WinError 183] Cannot create a file when that file already exists: 'C:/Users/Parthiva/Desktop/'",
     "output_type": "error",
     "traceback": [
      "\u001b[1;31m---------------------------------------------------------------------------\u001b[0m",
      "\u001b[1;31mFileExistsError\u001b[0m                           Traceback (most recent call last)",
      "\u001b[1;32m<ipython-input-15-f66306b3aca9>\u001b[0m in \u001b[0;36m<module>\u001b[1;34m\u001b[0m\n\u001b[1;32m----> 1\u001b[1;33m \u001b[0mos\u001b[0m\u001b[1;33m.\u001b[0m\u001b[0mmakedirs\u001b[0m\u001b[1;33m(\u001b[0m\u001b[0mdirectory\u001b[0m\u001b[1;33m)\u001b[0m\u001b[1;33m\u001b[0m\u001b[1;33m\u001b[0m\u001b[0m\n\u001b[0m",
      "\u001b[1;32m~\\anaconda3\\lib\\os.py\u001b[0m in \u001b[0;36mmakedirs\u001b[1;34m(name, mode, exist_ok)\u001b[0m\n\u001b[0;32m    221\u001b[0m             \u001b[1;32mreturn\u001b[0m\u001b[1;33m\u001b[0m\u001b[1;33m\u001b[0m\u001b[0m\n\u001b[0;32m    222\u001b[0m     \u001b[1;32mtry\u001b[0m\u001b[1;33m:\u001b[0m\u001b[1;33m\u001b[0m\u001b[1;33m\u001b[0m\u001b[0m\n\u001b[1;32m--> 223\u001b[1;33m         \u001b[0mmkdir\u001b[0m\u001b[1;33m(\u001b[0m\u001b[0mname\u001b[0m\u001b[1;33m,\u001b[0m \u001b[0mmode\u001b[0m\u001b[1;33m)\u001b[0m\u001b[1;33m\u001b[0m\u001b[1;33m\u001b[0m\u001b[0m\n\u001b[0m\u001b[0;32m    224\u001b[0m     \u001b[1;32mexcept\u001b[0m \u001b[0mOSError\u001b[0m\u001b[1;33m:\u001b[0m\u001b[1;33m\u001b[0m\u001b[1;33m\u001b[0m\u001b[0m\n\u001b[0;32m    225\u001b[0m         \u001b[1;31m# Cannot rely on checking for EEXIST, since the operating system\u001b[0m\u001b[1;33m\u001b[0m\u001b[1;33m\u001b[0m\u001b[1;33m\u001b[0m\u001b[0m\n",
      "\u001b[1;31mFileExistsError\u001b[0m: [WinError 183] Cannot create a file when that file already exists: 'C:/Users/Parthiva/Desktop/'"
     ]
    }
   ],
   "source": [
    " os.makedirs(directory)"
   ]
  },
  {
   "cell_type": "code",
   "execution_count": null,
   "id": "7eb7a627-27e5-44cf-8346-62c63c302f36",
   "metadata": {},
   "outputs": [],
   "source": []
  },
  {
   "cell_type": "code",
   "execution_count": null,
   "id": "47d4a5c8-605e-485c-bc9f-60dff124b3e3",
   "metadata": {},
   "outputs": [],
   "source": []
  },
  {
   "cell_type": "code",
   "execution_count": null,
   "id": "d3bb1ad9-e6db-4638-8553-a0d8b7cbfb4e",
   "metadata": {},
   "outputs": [],
   "source": [
    ">>> from sklearn.datasets import load_sample_image\n",
    ">>> from sklearn.feature_extraction import image\n",
    ">>> # Use the array data from the first image in this dataset:\n",
    ">>> one_image = load_sample_image(\"china.jpg\")\n",
    ">>> print('Image shape: {}'.format(one_image.shape))\n",
    "Image shape: (427, 640, 3)\n",
    ">>> patches = image.extract_patches_2d(one_image, (2, 2))\n",
    ">>> print('Patches shape: {}'.format(patches.shape))\n",
    "Patches shape: (272214, 2, 2, 3)\n",
    ">>> # Here are just two of these patches:\n",
    ">>> print(patches[1])\n",
    "[[[174 201 231]\n",
    "  [174 201 231]]\n",
    " [[173 200 230]\n",
    "  [173 200 230]]]\n",
    ">>> print(patches[800])\n",
    "[[[187 214 243]\n",
    "  [188 215 244]]\n",
    " [[187 214 243]\n",
    "  [188 215 244]]]"
   ]
  },
  {
   "cell_type": "code",
   "execution_count": 8,
   "id": "5e03e1a6-1de0-47ba-977f-b51158f6d2b1",
   "metadata": {},
   "outputs": [],
   "source": [
    "from sklearn.datasets import load_sample_image\n",
    "from sklearn.feature_extraction import image"
   ]
  },
  {
   "cell_type": "code",
   "execution_count": 9,
   "id": "1c88cf13-ca77-4564-8dd9-dd3e4f5f96ab",
   "metadata": {},
   "outputs": [
    {
     "ename": "AttributeError",
     "evalue": "Cannot find sample image: E:/land-use-classification-cnn-master/jpg/sikkim",
     "output_type": "error",
     "traceback": [
      "\u001b[1;31m---------------------------------------------------------------------------\u001b[0m",
      "\u001b[1;31mAttributeError\u001b[0m                            Traceback (most recent call last)",
      "\u001b[1;32m<ipython-input-9-a9ea88702327>\u001b[0m in \u001b[0;36m<module>\u001b[1;34m\u001b[0m\n\u001b[1;32m----> 1\u001b[1;33m \u001b[0mone_image\u001b[0m \u001b[1;33m=\u001b[0m \u001b[0mload_sample_image\u001b[0m\u001b[1;33m(\u001b[0m\u001b[1;34m\"E:/land-use-classification-cnn-master/jpg/sikkim\"\u001b[0m\u001b[1;33m)\u001b[0m\u001b[1;33m\u001b[0m\u001b[1;33m\u001b[0m\u001b[0m\n\u001b[0m",
      "\u001b[1;32m~\\anaconda3\\lib\\site-packages\\sklearn\\datasets\\_base.py\u001b[0m in \u001b[0;36mload_sample_image\u001b[1;34m(image_name)\u001b[0m\n\u001b[0;32m   1389\u001b[0m             \u001b[1;32mbreak\u001b[0m\u001b[1;33m\u001b[0m\u001b[1;33m\u001b[0m\u001b[0m\n\u001b[0;32m   1390\u001b[0m     \u001b[1;32mif\u001b[0m \u001b[0mindex\u001b[0m \u001b[1;32mis\u001b[0m \u001b[1;32mNone\u001b[0m\u001b[1;33m:\u001b[0m\u001b[1;33m\u001b[0m\u001b[1;33m\u001b[0m\u001b[0m\n\u001b[1;32m-> 1391\u001b[1;33m         \u001b[1;32mraise\u001b[0m \u001b[0mAttributeError\u001b[0m\u001b[1;33m(\u001b[0m\u001b[1;34m\"Cannot find sample image: %s\"\u001b[0m \u001b[1;33m%\u001b[0m \u001b[0mimage_name\u001b[0m\u001b[1;33m)\u001b[0m\u001b[1;33m\u001b[0m\u001b[1;33m\u001b[0m\u001b[0m\n\u001b[0m\u001b[0;32m   1392\u001b[0m     \u001b[1;32mreturn\u001b[0m \u001b[0mimages\u001b[0m\u001b[1;33m.\u001b[0m\u001b[0mimages\u001b[0m\u001b[1;33m[\u001b[0m\u001b[0mindex\u001b[0m\u001b[1;33m]\u001b[0m\u001b[1;33m\u001b[0m\u001b[1;33m\u001b[0m\u001b[0m\n\u001b[0;32m   1393\u001b[0m \u001b[1;33m\u001b[0m\u001b[0m\n",
      "\u001b[1;31mAttributeError\u001b[0m: Cannot find sample image: E:/land-use-classification-cnn-master/jpg/sikkim"
     ]
    }
   ],
   "source": [
    "one_image = load_sample_image(\"E:/land-use-classification-cnn-master/jpg/sikkim\")"
   ]
  },
  {
   "cell_type": "code",
   "execution_count": 10,
   "id": "a4f057a1-592c-484e-bf8a-f36ece5df940",
   "metadata": {},
   "outputs": [],
   "source": [
    "import numpy as np\n",
    "from patchify import patchify, unpatchify\n",
    "\n",
    "image = np.array([[1,2,3,4], [5,6,7,8], [9,10,11,12]])\n",
    "\n",
    "patches = patchify(image, (2,2), step=1) # split image into 2*3 small 2*2 patches.\n",
    "\n",
    "assert patches.shape == (2, 3, 2, 2)\n",
    "reconstructed_image = unpatchify(patches, image.shape)\n",
    "\n",
    "assert (reconstructed_image == image).all()"
   ]
  },
  {
   "cell_type": "code",
   "execution_count": 11,
   "id": "9a4b76f0-49cc-49aa-a27d-11b63a7b7d85",
   "metadata": {},
   "outputs": [
    {
     "name": "stdout",
     "output_type": "stream",
     "text": [
      "[[[[ 1  2]\n",
      "   [ 5  6]]\n",
      "\n",
      "  [[ 2  3]\n",
      "   [ 6  7]]\n",
      "\n",
      "  [[ 3  4]\n",
      "   [ 7  8]]]\n",
      "\n",
      "\n",
      " [[[ 5  6]\n",
      "   [ 9 10]]\n",
      "\n",
      "  [[ 6  7]\n",
      "   [10 11]]\n",
      "\n",
      "  [[ 7  8]\n",
      "   [11 12]]]]\n"
     ]
    }
   ],
   "source": [
    "print(patches)"
   ]
  },
  {
   "cell_type": "code",
   "execution_count": 18,
   "id": "a73b5576-8b3c-4fac-8350-42a6fc1d5d2e",
   "metadata": {},
   "outputs": [
    {
     "name": "stdout",
     "output_type": "stream",
     "text": [
      "[[ 1  2  3  4]\n",
      " [ 5  6  7  8]\n",
      " [ 9 10 11 12]]\n"
     ]
    }
   ],
   "source": [
    "print(reconstructed_image)"
   ]
  },
  {
   "cell_type": "code",
   "execution_count": null,
   "id": "b387fb81-efb9-4d0b-a68d-802019169821",
   "metadata": {},
   "outputs": [],
   "source": []
  },
  {
   "cell_type": "code",
   "execution_count": null,
   "id": "389b2b32-d911-426d-87a9-7b38a7979a25",
   "metadata": {},
   "outputs": [],
   "source": []
  },
  {
   "cell_type": "code",
   "execution_count": 4,
   "id": "1320f53f-4ecf-4a14-ba48-ef5421da3a94",
   "metadata": {},
   "outputs": [],
   "source": [
    "path = \"E:/land-use-classification-cnn-master/jpg\"\n",
    "directory = path\n",
    "\n",
    "cat_files = os.listdir(directory)"
   ]
  },
  {
   "cell_type": "code",
   "execution_count": 6,
   "id": "32c8a20a-7a6f-4235-80e0-a9f68b1afed0",
   "metadata": {},
   "outputs": [],
   "source": [
    "from osgeo import gdal"
   ]
  },
  {
   "cell_type": "code",
   "execution_count": 7,
   "id": "18506c5a-2636-4d63-9402-243f3772885d",
   "metadata": {},
   "outputs": [
    {
     "name": "stderr",
     "output_type": "stream",
     "text": [
      "ERROR 4: `E:/land-use-classification-cnn-master/.DS_Store' not recognized as a supported file format.\n",
      "ERROR 4: `E:/land-use-classification-cnn-master/.gitattributes' not recognized as a supported file format.\n",
      "ERROR 4: E:/land-use-classification-cnn-master/.ipynb_checkpoints: Permission denied\n",
      "ERROR 4: `E:/land-use-classification-cnn-master/0_build_rgb_dataset.ipynb' not recognized as a supported file format.\n",
      "ERROR 4: `E:/land-use-classification-cnn-master/1_exploratory_data_analysis.ipynb' not recognized as a supported file format.\n",
      "ERROR 4: `E:/land-use-classification-cnn-master/2_cnn_model.ipynb' not recognized as a supported file format.\n",
      "ERROR 4: `E:/land-use-classification-cnn-master/3_cnn_tuned.ipynb' not recognized as a supported file format.\n",
      "ERROR 4: E:/land-use-classification-cnn-master/img: Permission denied\n",
      "ERROR 4: E:/land-use-classification-cnn-master/interim_reports: Permission denied\n",
      "ERROR 4: `E:/land-use-classification-cnn-master/labeling_land_report.pdf' not recognized as a supported file format.\n",
      "ERROR 4: `E:/land-use-classification-cnn-master/labeling_land_slides.pdf' not recognized as a supported file format.\n",
      "ERROR 4: E:/land-use-classification-cnn-master/land-use-jpeg: Permission denied\n",
      "ERROR 4: E:/land-use-classification-cnn-master/land-use-tif: Permission denied\n",
      "ERROR 4: `E:/land-use-classification-cnn-master/README.md' not recognized as a supported file format.\n"
     ]
    }
   ],
   "source": [
    "# translate files from .tif to .jpeg\n",
    "for file in cat_files:\n",
    "    file_no_ext = file.split('.')[0] # separate file name from extension\n",
    "    img_in = directory + file\n",
    "    img_out = directory + file_no_ext + '.jpeg'\n",
    "            \n",
    "    if not os.path.exists(directory + file_no_ext + '.jpeg'):\n",
    "        !gdal_translate -of JPEG $img_in $img_out -b 1 -b 2 -b 3 -scale\n",
    "        if os.path.exists(img_out):\n",
    "            shutil.move(img_out, directory + file_no_ext + '.jpeg')\n",
    "                "
   ]
  },
  {
   "cell_type": "code",
   "execution_count": null,
   "id": "a17721e0-39bb-4767-8e01-c94153773f53",
   "metadata": {},
   "outputs": [],
   "source": []
  },
  {
   "cell_type": "code",
   "execution_count": null,
   "id": "b1ffe0e4-d14d-44ac-a444-94eabc76452a",
   "metadata": {},
   "outputs": [],
   "source": []
  },
  {
   "cell_type": "code",
   "execution_count": null,
   "id": "58b0c77d-d4fe-4f75-a5e7-b04fe98cdbf8",
   "metadata": {},
   "outputs": [],
   "source": []
  },
  {
   "cell_type": "code",
   "execution_count": 13,
   "id": "d620f038-add5-4cfe-87d1-b5ed84ff3f08",
   "metadata": {},
   "outputs": [],
   "source": [
    "from PIL import Image\n",
    "path = \"E:/land-use-classification-cnn-master/jpg\""
   ]
  },
  {
   "cell_type": "code",
   "execution_count": 14,
   "id": "14821bbc-b6e8-4c2d-a7c3-98d81bea63dd",
   "metadata": {},
   "outputs": [],
   "source": [
    "def crop(path, input, height, width, k, page, area):\n",
    "    im = Image.open(input)\n",
    "    imgwidth, imgheight = im.size\n",
    "    for i in range(0,imgheight,height):\n",
    "        for j in range(0,imgwidth,width):\n",
    "            box = (j, i, j+width, i+height)\n",
    "            a = im.crop(box)\n",
    "            try:\n",
    "                o = a.crop(area)\n",
    "                o.save(os.path.join(path,\"PNG\",\"%s\" % page,\"IMG-%s.png\" % k))\n",
    "            except:\n",
    "                pass\n",
    "            k +=1"
   ]
  },
  {
   "cell_type": "code",
   "execution_count": 15,
   "id": "d0cdee81-716b-43ea-883a-0862b484e1e4",
   "metadata": {},
   "outputs": [
    {
     "ename": "TypeError",
     "evalue": "crop() missing 2 required positional arguments: 'page' and 'area'",
     "output_type": "error",
     "traceback": [
      "\u001b[1;31m---------------------------------------------------------------------------\u001b[0m",
      "\u001b[1;31mTypeError\u001b[0m                                 Traceback (most recent call last)",
      "\u001b[1;32m<ipython-input-15-1aac13ad0357>\u001b[0m in \u001b[0;36m<module>\u001b[1;34m\u001b[0m\n\u001b[1;32m----> 1\u001b[1;33m \u001b[0mcrop\u001b[0m\u001b[1;33m(\u001b[0m\u001b[1;34m\"E:/land-use-classification-cnn-master/jpg\"\u001b[0m\u001b[1;33m,\u001b[0m \u001b[1;34m\"sikkim\"\u001b[0m\u001b[1;33m,\u001b[0m \u001b[1;36m64\u001b[0m\u001b[1;33m,\u001b[0m \u001b[1;36m64\u001b[0m\u001b[1;33m,\u001b[0m \u001b[1;36m12\u001b[0m\u001b[1;33m)\u001b[0m\u001b[1;33m\u001b[0m\u001b[1;33m\u001b[0m\u001b[0m\n\u001b[0m",
      "\u001b[1;31mTypeError\u001b[0m: crop() missing 2 required positional arguments: 'page' and 'area'"
     ]
    }
   ],
   "source": [
    "crop(\"E:/land-use-classification-cnn-master/jpg\", \"sikkim\", 64, 64, 12)"
   ]
  },
  {
   "cell_type": "code",
   "execution_count": null,
   "id": "a6d92553-0deb-4300-be7b-c0bb2d62a850",
   "metadata": {},
   "outputs": [],
   "source": []
  },
  {
   "cell_type": "code",
   "execution_count": 16,
   "id": "5cee7e96-14d2-4870-bf2c-dbf0fd2cbd12",
   "metadata": {},
   "outputs": [],
   "source": [
    "from PIL import Image\n",
    "from itertools import product"
   ]
  },
  {
   "cell_type": "code",
   "execution_count": 17,
   "id": "f2f0d5b2-d30f-41aa-a322-331a9434d072",
   "metadata": {},
   "outputs": [],
   "source": [
    "def tile(filename, dir_in, dir_out, d):\n",
    "    name, ext = os.path.splitext(filename)\n",
    "    img = Image.open(os.path.join(dir_in, filename))\n",
    "    w, h = img.size\n",
    "    \n",
    "    grid = product(range(0, h-h%d, d), range(0, w-w%d, d))\n",
    "    for i, j in grid:\n",
    "        box = (j, i, j+d, i+d)\n",
    "        out = os.path.join(dir_out, f'{name}_{i}_{j}{ext}')\n",
    "        img.crop(box).save(out)"
   ]
  },
  {
   "cell_type": "code",
   "execution_count": 20,
   "id": "0bbfe29b-768c-437c-a3ff-ad918078c467",
   "metadata": {},
   "outputs": [
    {
     "data": {
      "text/plain": [
       "'C:\\\\Users\\\\Parthiva\\\\CNN\\\\LULC'"
      ]
     },
     "execution_count": 20,
     "metadata": {},
     "output_type": "execute_result"
    }
   ],
   "source": [
    "import os\n",
    "os.getcwd()"
   ]
  },
  {
   "cell_type": "code",
   "execution_count": 23,
   "id": "7d956094-67ce-449e-83db-24c2036c4fbb",
   "metadata": {},
   "outputs": [
    {
     "data": {
      "text/plain": [
       "['.ipynb_checkpoints',\n",
       " '1_Build_RGB_Dataset.ipynb',\n",
       " '2_EDA.ipynb',\n",
       " '3_CNN_Model.ipynb',\n",
       " '4_CNN_Tuning.ipynb',\n",
       " 'Basic_CNN_CM.jpg',\n",
       " 'Images',\n",
       " 'land_use_model.h5',\n",
       " 'LULC jpg.ipynb',\n",
       " 'sikkim.jpg',\n",
       " 'Untitled.ipynb']"
      ]
     },
     "execution_count": 23,
     "metadata": {},
     "output_type": "execute_result"
    }
   ],
   "source": [
    "os.listdir()"
   ]
  },
  {
   "cell_type": "code",
   "execution_count": 25,
   "id": "f908baca-ae61-4cac-ab3d-a4aed22e5ec4",
   "metadata": {},
   "outputs": [],
   "source": [
    "tile(\"sikkim.jpg\", \"E:/land-use-classification-cnn-master/jpg_in\", \"E:/land-use-classification-cnn-master/jpg_out\", 100)"
   ]
  },
  {
   "cell_type": "code",
   "execution_count": null,
   "id": "a70544e9-c6cc-4296-836c-2a1db16cda4e",
   "metadata": {},
   "outputs": [],
   "source": []
  },
  {
   "cell_type": "code",
   "execution_count": null,
   "id": "62e4796a-12da-4c64-af3d-a00d7942dc4f",
   "metadata": {},
   "outputs": [],
   "source": []
  },
  {
   "cell_type": "code",
   "execution_count": null,
   "id": "95e0b613-5b38-4ebd-8f9e-7ad145cc783c",
   "metadata": {},
   "outputs": [],
   "source": []
  },
  {
   "cell_type": "code",
   "execution_count": null,
   "id": "846e9b46-9aaf-4f69-84de-e98f7571bb29",
   "metadata": {},
   "outputs": [],
   "source": []
  },
  {
   "cell_type": "code",
   "execution_count": null,
   "id": "a56e052e-ee50-41be-84bf-4264398a0483",
   "metadata": {},
   "outputs": [],
   "source": []
  }
 ],
 "metadata": {
  "kernelspec": {
   "display_name": "Python 3",
   "language": "python",
   "name": "python3"
  },
  "language_info": {
   "codemirror_mode": {
    "name": "ipython",
    "version": 3
   },
   "file_extension": ".py",
   "mimetype": "text/x-python",
   "name": "python",
   "nbconvert_exporter": "python",
   "pygments_lexer": "ipython3",
   "version": "3.8.8"
  }
 },
 "nbformat": 4,
 "nbformat_minor": 5
}
